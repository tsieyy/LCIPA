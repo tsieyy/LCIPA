{
 "cells": [
  {
   "metadata": {
    "ExecuteTime": {
     "end_time": "2024-05-10T14:32:39.262481Z",
     "start_time": "2024-05-10T14:32:39.256215Z"
    }
   },
   "cell_type": "code",
   "source": [
    "from dotenv import load_dotenv\n",
    "\n",
    "if not load_dotenv(\"../config/.env\"):\n",
    "    raise Exception(\"Failed to load the .env file\")"
   ],
   "id": "cf965e0932eda3be",
   "execution_count": 4,
   "outputs": []
  },
  {
   "metadata": {
    "ExecuteTime": {
     "end_time": "2024-05-10T14:32:42.745619Z",
     "start_time": "2024-05-10T14:32:39.266983Z"
    }
   },
   "cell_type": "code",
   "source": [
    "\n",
    "\n",
    "#制备Bing搜索\n",
    "from langchain_community.tools import BingSearchRun\n",
    "from langchain_community.utilities import BingSearchAPIWrapper\n",
    "search_api = BingSearchAPIWrapper(k=3)\n",
    "searchtool = BingSearchRun(api_wrapper=search_api)\n",
    "searchtool.name = 'BingSearch'\n",
    "searchtool.description ='This is Bing search tool. Useful for searching some real time info, such as news.'\n",
    "\n",
    "\n",
    "#制备维基百科工具.定义name，description，JSON schema，the function to call, result return to user directly or not\n",
    "from langchain_community.tools import WikipediaQueryRun\n",
    "from langchain_community.utilities import WikipediaAPIWrapper\n",
    "api_wrapper = WikipediaAPIWrapper(top_k_result=1, doc_content_chars_max=100)\n",
    "wikitool = WikipediaQueryRun(api_wrapper=api_wrapper)\n",
    "wikitool.name = 'Wikipedia'\n",
    "wikitool.description ='A wrapper around Wikipedia. Useful for when you need to answer general question about definition and the description of people, place, facrts, history etc.'\n",
    "\n",
    "\n",
    "# 制备Google搜索\n",
    "# from langchain.utilities import SerpAPIWrapper\n",
    "# from langchain_community.tools import GoogleSerperRun\n",
    "# serp_api = SerpAPIWrapper()\n",
    "# google_tool = GoogleSerperRun(api_wrapper=serp_api)\n",
    "# google_tool.name = 'GoogleSearch'\n",
    "# google_tool.description = 'This is Google search tool. Useful for searching some real time info, such as news.'\n",
    "\n",
    "\n",
    "\n",
    "from langchain.agents import AgentExecutor, Tool, create_react_agent\n",
    "from langchain.chains import LLMMathChain\n",
    "from langchain_openai import ChatOpenAI\n",
    "\n",
    "llm = ChatOpenAI(temperature=0)\n",
    "\n",
    "llm_math_chain = LLMMathChain.from_llm(llm)\n",
    "\n",
    "tools = [\n",
    "    Tool(\n",
    "        name=\"Calculator\",\n",
    "        func=llm_math_chain.run,\n",
    "        description=\"useful for when you need to answer questions about math\",\n",
    "    ),\n",
    "    searchtool,\n",
    "    wikitool,\n",
    "]"
   ],
   "id": "e337ef249209bbfc",
   "execution_count": 5,
   "outputs": []
  },
  {
   "metadata": {
    "ExecuteTime": {
     "end_time": "2024-05-10T14:32:42.749709Z",
     "start_time": "2024-05-10T14:32:42.746903Z"
    }
   },
   "cell_type": "code",
   "source": [
    "from langchain_core.prompts import ChatPromptTemplate, MessagesPlaceholder\n",
    "\n",
    "# Adapted from https://smith.langchain.com/hub/hwchase17/openai-tools-agent\n",
    "prompt = ChatPromptTemplate.from_messages(\n",
    "    [\n",
    "        (\n",
    "            \"system\",\n",
    "            \"You are a helpful assistant. You may not need to use tools for every query - the user may just want to chat!\",\n",
    "        ),\n",
    "        MessagesPlaceholder(variable_name=\"messages\"),\n",
    "        MessagesPlaceholder(variable_name=\"agent_scratchpad\"),\n",
    "    ]\n",
    ")"
   ],
   "id": "205acc2909b51ee3",
   "execution_count": 6,
   "outputs": []
  },
  {
   "metadata": {
    "ExecuteTime": {
     "end_time": "2024-05-10T14:32:42.757036Z",
     "start_time": "2024-05-10T14:32:42.750871Z"
    }
   },
   "cell_type": "code",
   "source": [
    "from langchain.agents import AgentExecutor, create_openai_tools_agent\n",
    "\n",
    "agent = create_openai_tools_agent(llm, tools, prompt)\n",
    "\n",
    "agent_executor = AgentExecutor(agent=agent, tools=tools, verbose=True)"
   ],
   "id": "d694293aabcca4f5",
   "execution_count": 7,
   "outputs": []
  },
  {
   "metadata": {
    "ExecuteTime": {
     "end_time": "2024-05-10T14:32:44.018946Z",
     "start_time": "2024-05-10T14:32:42.758544Z"
    }
   },
   "cell_type": "code",
   "source": [
    "from langchain_core.messages import HumanMessage\n",
    "\n",
    "agent_executor.invoke({\"messages\": [HumanMessage(content=\"I'm Nemo!\")]})"
   ],
   "id": "1c20debb43a40225",
   "execution_count": 8,
   "outputs": []
  },
  {
   "metadata": {
    "ExecuteTime": {
     "end_time": "2024-05-10T14:33:04.253745Z",
     "start_time": "2024-05-10T14:32:54.090576Z"
    }
   },
   "cell_type": "code",
   "source": [
    "agent_executor.invoke(\n",
    "    {\n",
    "        \"messages\": [\n",
    "            HumanMessage(\n",
    "                content=\"What is the current conservation status of the Great Barrier Reef?\"\n",
    "            )\n",
    "        ],\n",
    "    }\n",
    ")"
   ],
   "id": "4e520cb08e295b6a",
   "execution_count": 9,
   "outputs": []
  },
  {
   "metadata": {
    "ExecuteTime": {
     "end_time": "2024-05-10T14:55:34.533541Z",
     "start_time": "2024-05-10T14:55:33.012969Z"
    }
   },
   "cell_type": "code",
   "source": [
    "from langchain_core.messages import AIMessage, HumanMessage\n",
    "\n",
    "agent_executor.invoke(\n",
    "    {\n",
    "        \"messages\": [\n",
    "            HumanMessage(content=\"I'm Nemo!\"),\n",
    "            AIMessage(content=\"Hello Nemo! How can I assist you today?\"),\n",
    "            HumanMessage(content=\"What is my name?\"),\n",
    "        ],\n",
    "    }\n",
    ")"
   ],
   "id": "8d5da9785e0e74b5",
   "execution_count": 11,
   "outputs": []
  }
 ],
 "metadata": {
  "kernelspec": {
   "display_name": "Python 3",
   "language": "python",
   "name": "python3"
  },
  "language_info": {
   "codemirror_mode": {
    "name": "ipython",
    "version": 2
   },
   "file_extension": ".py",
   "mimetype": "text/x-python",
   "name": "python",
   "nbconvert_exporter": "python",
   "pygments_lexer": "ipython2",
   "version": "2.7.6"
  }
 },
 "nbformat": 4,
 "nbformat_minor": 5
}

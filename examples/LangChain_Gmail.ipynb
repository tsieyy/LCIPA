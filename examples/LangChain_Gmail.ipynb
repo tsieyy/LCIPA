{
 "cells": [
  {
   "attachments": {},
   "cell_type": "markdown",
   "metadata": {},
   "source": [
    "# Introduction\n",
    "\n",
    "This is Python notebook demonstrating how to integrate Gmail access with OpenAI capabilities to create a AI Agent that can read and write emails.\n",
    "\n",
    "You should complete the following steps to get started:\n",
    "- Enable API by following the [Enable the API - Quick start](https://developers.google.com/gmail/api/quickstart/python#enable_the_api).\n",
    "- Set up your credentials explained in the [Gmail API docs](https://developers.google.com/gmail/api/quickstart/python#authorize_credentials_for_a_desktop_application)."
   ]
  },
  {
   "attachments": {},
   "cell_type": "markdown",
   "metadata": {},
   "source": [
    "1. Install required Python packages"
   ]
  },
  {
   "cell_type": "code",
   "execution_count": 4,
   "metadata": {},
   "source": [
    "!pip install --upgrade --quiet google-api-python-client google-auth-oauthlib google-auth-httplib2 langchain openai"
   ],
   "outputs": []
  },
  {
   "attachments": {},
   "cell_type": "markdown",
   "metadata": {},
   "source": [
    "2. Install load_dotenv and use it to load *OPENAI_API_KEY* from `.env` file"
   ]
  },
  {
   "cell_type": "code",
   "metadata": {
    "ExecuteTime": {
     "end_time": "2024-05-25T04:40:41.137237Z",
     "start_time": "2024-05-25T04:40:41.128470Z"
    }
   },
   "source": [
    "from dotenv import load_dotenv\n",
    "\n",
    "if not load_dotenv(\"../config/.env\"):\n",
    "    raise Exception(\"Failed to load the .env file\")"
   ],
   "execution_count": 1,
   "outputs": []
  },
  {
   "cell_type": "code",
   "metadata": {
    "ExecuteTime": {
     "end_time": "2024-05-25T04:41:27.352536Z",
     "start_time": "2024-05-25T04:41:27.346036Z"
    }
   },
   "source": [
    "from langchain_community.tools.gmail.utils import (\n",
    "    build_resource_service,\n",
    "    get_gmail_credentials,\n",
    ")\n",
    "\n",
    "# Can review scopes here https://developers.google.com/gmail/api/auth/scopes\n",
    "# For instance, readonly scope is 'https://www.googleapis.com/auth/gmail.readonly'\n",
    "credentials = get_gmail_credentials(\n",
    "    token_file=\"../config/token.json\",\n",
    "    scopes=[\"https://mail.google.com/\"],\n",
    "    client_secrets_file=\"../config/cre.json\",\n",
    ")\n",
    "api_resource = build_resource_service(credentials=credentials)\n",
    "\n",
    "from langchain_community.agent_toolkits import GmailToolkit\n",
    "toolkit = GmailToolkit(api_resource=api_resource)"
   ],
   "execution_count": 4,
   "outputs": []
  },
  {
   "attachments": {},
   "cell_type": "markdown",
   "metadata": {},
   "source": [
    "3. List the Gmail tools supported by LangChain"
   ]
  },
  {
   "cell_type": "code",
   "metadata": {
    "ExecuteTime": {
     "end_time": "2024-05-11T09:14:32.003198Z",
     "start_time": "2024-05-11T09:14:31.997190Z"
    }
   },
   "source": [
    "tools = toolkit.get_tools()\n",
    "tools"
   ],
   "execution_count": 29,
   "outputs": []
  },
  {
   "cell_type": "code",
   "execution_count": 8,
   "metadata": {},
   "source": [
    "from langchain import OpenAI\n",
    "from langchain.agents import initialize_agent, AgentType"
   ],
   "outputs": []
  },
  {
   "attachments": {},
   "cell_type": "markdown",
   "metadata": {},
   "source": [
    "4. Create a LangChain agent with OpenAI and any model you prefer"
   ]
  },
  {
   "cell_type": "code",
   "metadata": {
    "ExecuteTime": {
     "end_time": "2024-05-11T08:32:57.848790Z",
     "start_time": "2024-05-11T08:32:54.862932Z"
    }
   },
   "source": [
    "from langchain import hub\n",
    "from langchain.agents import AgentExecutor, create_openai_functions_agent\n",
    "from langchain_openai import ChatOpenAI\n",
    "\n",
    "instructions = \"\"\"You are an assistant.\"\"\"\n",
    "base_prompt = hub.pull(\"langchain-ai/openai-functions-template\")\n",
    "prompt = base_prompt.partial(instructions=instructions)\n",
    "\n",
    "llm = ChatOpenAI(temperature=0)\n",
    "\n",
    "agent = create_openai_functions_agent(llm, toolkit.get_tools(), prompt)\n",
    "\n",
    "agent_executor = AgentExecutor(\n",
    "    agent=agent,\n",
    "    tools=toolkit.get_tools(),\n",
    "    # This is set to False to prevent information about my email showing up on the screen\n",
    "    # Normally, it is helpful to have it set to True however.\n",
    "    verbose=True,\n",
    ")"
   ],
   "execution_count": 16,
   "outputs": []
  },
  {
   "attachments": {},
   "cell_type": "markdown",
   "metadata": {},
   "source": [
    "5. Ask the agent to work on your Gmail tasks"
   ]
  },
  {
   "metadata": {
    "ExecuteTime": {
     "end_time": "2024-05-11T08:34:44.547528Z",
     "start_time": "2024-05-11T08:34:40.356765Z"
    }
   },
   "cell_type": "code",
   "source": [
    "agent_executor.invoke(\n",
    "    {\"input\": \"Please send an email to 1193012432@qq.com with title 'Greetings from czy' and message 'This is czy, and nice to meet you'\"}\n",
    ")"
   ],
   "execution_count": 17,
   "outputs": []
  },
  {
   "cell_type": "code",
   "execution_count": 10,
   "metadata": {},
   "source": [
    "agent.run(\n",
    "    \"Create a gmail draft for me to edit of a letter for a potential customer\"\n",
    "    \" who has visited to my website and expressed interest in my product.\"\n",
    "    \" Under no circumstances may you send the message, however.\"\n",
    ")"
   ],
   "outputs": []
  },
  {
   "cell_type": "code",
   "execution_count": 11,
   "metadata": {},
   "source": [
    "agent.run(\"Could you search in my drafts for the latest email?\")"
   ],
   "outputs": []
  },
  {
   "cell_type": "code",
   "execution_count": 14,
   "metadata": {},
   "source": [
    "agent.run(\"Please send an email to zhengyang.cai@outlook.com with title 'Greetings from myself' and message 'This is czy, and nice to meet you'.\")"
   ],
   "outputs": []
  }
 ],
 "metadata": {
  "kernelspec": {
   "display_name": "Python 3",
   "language": "python",
   "name": "python3"
  },
  "language_info": {
   "codemirror_mode": {
    "name": "ipython",
    "version": 3
   },
   "file_extension": ".py",
   "mimetype": "text/x-python",
   "name": "python",
   "nbconvert_exporter": "python",
   "pygments_lexer": "ipython3",
   "version": "3.11.8"
  },
  "orig_nbformat": 4
 },
 "nbformat": 4,
 "nbformat_minor": 2
}
